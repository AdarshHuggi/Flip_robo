{
  "nbformat": 4,
  "nbformat_minor": 0,
  "metadata": {
    "colab": {
      "name": "Assignment 3_Web_scraping  .ipynb",
      "provenance": [],
      "collapsed_sections": []
    },
    "kernelspec": {
      "name": "python3",
      "display_name": "Python 3"
    },
    "language_info": {
      "name": "python"
    }
  },
  "cells": [
    {
      "cell_type": "code",
      "metadata": {
        "colab": {
          "base_uri": "https://localhost:8080/"
        },
        "id": "0pmLlKwm-Y7n",
        "outputId": "8c0af083-8a41-44c1-85d5-6b8650fe1ea6"
      },
      "source": [
        "!pip install selenium\n",
        "!apt-get update # to update ubuntu to correctly run apt install\n",
        "!apt install chromium-chromedriver\n",
        "!cp /usr/lib/chromium-browser/chromedriver /usr/bin\n",
        "import sys\n",
        "sys.path.insert(0,'/usr/lib/chromium-browser/chromedriver')\n",
        "from selenium import webdriver\n",
        "chrome_options = webdriver.ChromeOptions()\n",
        "chrome_options.add_argument('--headless')\n",
        "chrome_options.add_argument('--no-sandbox')\n",
        "chrome_options.add_argument('--disable-dev-shm-usage')\n",
        "driver = webdriver.Chrome('chromedriver',chrome_options=chrome_options)\n"
      ],
      "execution_count": 2,
      "outputs": [
        {
          "output_type": "stream",
          "text": [
            "Collecting selenium\n",
            "\u001b[?25l  Downloading https://files.pythonhosted.org/packages/80/d6/4294f0b4bce4de0abf13e17190289f9d0613b0a44e5dd6a7f5ca98459853/selenium-3.141.0-py2.py3-none-any.whl (904kB)\n",
            "\r\u001b[K     |▍                               | 10kB 19.9MB/s eta 0:00:01\r\u001b[K     |▊                               | 20kB 29.4MB/s eta 0:00:01\r\u001b[K     |█                               | 30kB 24.0MB/s eta 0:00:01\r\u001b[K     |█▌                              | 40kB 20.0MB/s eta 0:00:01\r\u001b[K     |█▉                              | 51kB 15.0MB/s eta 0:00:01\r\u001b[K     |██▏                             | 61kB 16.0MB/s eta 0:00:01\r\u001b[K     |██▌                             | 71kB 12.3MB/s eta 0:00:01\r\u001b[K     |███                             | 81kB 13.7MB/s eta 0:00:01\r\u001b[K     |███▎                            | 92kB 14.9MB/s eta 0:00:01\r\u001b[K     |███▋                            | 102kB 13.7MB/s eta 0:00:01\r\u001b[K     |████                            | 112kB 13.7MB/s eta 0:00:01\r\u001b[K     |████▍                           | 122kB 13.7MB/s eta 0:00:01\r\u001b[K     |████▊                           | 133kB 13.7MB/s eta 0:00:01\r\u001b[K     |█████                           | 143kB 13.7MB/s eta 0:00:01\r\u001b[K     |█████▍                          | 153kB 13.7MB/s eta 0:00:01\r\u001b[K     |█████▉                          | 163kB 13.7MB/s eta 0:00:01\r\u001b[K     |██████▏                         | 174kB 13.7MB/s eta 0:00:01\r\u001b[K     |██████▌                         | 184kB 13.7MB/s eta 0:00:01\r\u001b[K     |██████▉                         | 194kB 13.7MB/s eta 0:00:01\r\u001b[K     |███████▎                        | 204kB 13.7MB/s eta 0:00:01\r\u001b[K     |███████▋                        | 215kB 13.7MB/s eta 0:00:01\r\u001b[K     |████████                        | 225kB 13.7MB/s eta 0:00:01\r\u001b[K     |████████▎                       | 235kB 13.7MB/s eta 0:00:01\r\u001b[K     |████████▊                       | 245kB 13.7MB/s eta 0:00:01\r\u001b[K     |█████████                       | 256kB 13.7MB/s eta 0:00:01\r\u001b[K     |█████████▍                      | 266kB 13.7MB/s eta 0:00:01\r\u001b[K     |█████████▉                      | 276kB 13.7MB/s eta 0:00:01\r\u001b[K     |██████████▏                     | 286kB 13.7MB/s eta 0:00:01\r\u001b[K     |██████████▌                     | 296kB 13.7MB/s eta 0:00:01\r\u001b[K     |██████████▉                     | 307kB 13.7MB/s eta 0:00:01\r\u001b[K     |███████████▎                    | 317kB 13.7MB/s eta 0:00:01\r\u001b[K     |███████████▋                    | 327kB 13.7MB/s eta 0:00:01\r\u001b[K     |████████████                    | 337kB 13.7MB/s eta 0:00:01\r\u001b[K     |████████████▎                   | 348kB 13.7MB/s eta 0:00:01\r\u001b[K     |████████████▊                   | 358kB 13.7MB/s eta 0:00:01\r\u001b[K     |█████████████                   | 368kB 13.7MB/s eta 0:00:01\r\u001b[K     |█████████████▍                  | 378kB 13.7MB/s eta 0:00:01\r\u001b[K     |█████████████▊                  | 389kB 13.7MB/s eta 0:00:01\r\u001b[K     |██████████████▏                 | 399kB 13.7MB/s eta 0:00:01\r\u001b[K     |██████████████▌                 | 409kB 13.7MB/s eta 0:00:01\r\u001b[K     |██████████████▉                 | 419kB 13.7MB/s eta 0:00:01\r\u001b[K     |███████████████▏                | 430kB 13.7MB/s eta 0:00:01\r\u001b[K     |███████████████▋                | 440kB 13.7MB/s eta 0:00:01\r\u001b[K     |████████████████                | 450kB 13.7MB/s eta 0:00:01\r\u001b[K     |████████████████▎               | 460kB 13.7MB/s eta 0:00:01\r\u001b[K     |████████████████▋               | 471kB 13.7MB/s eta 0:00:01\r\u001b[K     |█████████████████               | 481kB 13.7MB/s eta 0:00:01\r\u001b[K     |█████████████████▍              | 491kB 13.7MB/s eta 0:00:01\r\u001b[K     |█████████████████▊              | 501kB 13.7MB/s eta 0:00:01\r\u001b[K     |██████████████████▏             | 512kB 13.7MB/s eta 0:00:01\r\u001b[K     |██████████████████▌             | 522kB 13.7MB/s eta 0:00:01\r\u001b[K     |██████████████████▉             | 532kB 13.7MB/s eta 0:00:01\r\u001b[K     |███████████████████▏            | 542kB 13.7MB/s eta 0:00:01\r\u001b[K     |███████████████████▋            | 552kB 13.7MB/s eta 0:00:01\r\u001b[K     |████████████████████            | 563kB 13.7MB/s eta 0:00:01\r\u001b[K     |████████████████████▎           | 573kB 13.7MB/s eta 0:00:01\r\u001b[K     |████████████████████▋           | 583kB 13.7MB/s eta 0:00:01\r\u001b[K     |█████████████████████           | 593kB 13.7MB/s eta 0:00:01\r\u001b[K     |█████████████████████▍          | 604kB 13.7MB/s eta 0:00:01\r\u001b[K     |█████████████████████▊          | 614kB 13.7MB/s eta 0:00:01\r\u001b[K     |██████████████████████          | 624kB 13.7MB/s eta 0:00:01\r\u001b[K     |██████████████████████▌         | 634kB 13.7MB/s eta 0:00:01\r\u001b[K     |██████████████████████▉         | 645kB 13.7MB/s eta 0:00:01\r\u001b[K     |███████████████████████▏        | 655kB 13.7MB/s eta 0:00:01\r\u001b[K     |███████████████████████▌        | 665kB 13.7MB/s eta 0:00:01\r\u001b[K     |████████████████████████        | 675kB 13.7MB/s eta 0:00:01\r\u001b[K     |████████████████████████▎       | 686kB 13.7MB/s eta 0:00:01\r\u001b[K     |████████████████████████▋       | 696kB 13.7MB/s eta 0:00:01\r\u001b[K     |█████████████████████████       | 706kB 13.7MB/s eta 0:00:01\r\u001b[K     |█████████████████████████▍      | 716kB 13.7MB/s eta 0:00:01\r\u001b[K     |█████████████████████████▊      | 727kB 13.7MB/s eta 0:00:01\r\u001b[K     |██████████████████████████      | 737kB 13.7MB/s eta 0:00:01\r\u001b[K     |██████████████████████████▍     | 747kB 13.7MB/s eta 0:00:01\r\u001b[K     |██████████████████████████▉     | 757kB 13.7MB/s eta 0:00:01\r\u001b[K     |███████████████████████████▏    | 768kB 13.7MB/s eta 0:00:01\r\u001b[K     |███████████████████████████▌    | 778kB 13.7MB/s eta 0:00:01\r\u001b[K     |████████████████████████████    | 788kB 13.7MB/s eta 0:00:01\r\u001b[K     |████████████████████████████▎   | 798kB 13.7MB/s eta 0:00:01\r\u001b[K     |████████████████████████████▋   | 808kB 13.7MB/s eta 0:00:01\r\u001b[K     |█████████████████████████████   | 819kB 13.7MB/s eta 0:00:01\r\u001b[K     |█████████████████████████████▍  | 829kB 13.7MB/s eta 0:00:01\r\u001b[K     |█████████████████████████████▊  | 839kB 13.7MB/s eta 0:00:01\r\u001b[K     |██████████████████████████████  | 849kB 13.7MB/s eta 0:00:01\r\u001b[K     |██████████████████████████████▍ | 860kB 13.7MB/s eta 0:00:01\r\u001b[K     |██████████████████████████████▉ | 870kB 13.7MB/s eta 0:00:01\r\u001b[K     |███████████████████████████████▏| 880kB 13.7MB/s eta 0:00:01\r\u001b[K     |███████████████████████████████▌| 890kB 13.7MB/s eta 0:00:01\r\u001b[K     |███████████████████████████████▉| 901kB 13.7MB/s eta 0:00:01\r\u001b[K     |████████████████████████████████| 911kB 13.7MB/s \n",
            "\u001b[?25hRequirement already satisfied: urllib3 in /usr/local/lib/python3.7/dist-packages (from selenium) (1.24.3)\n",
            "Installing collected packages: selenium\n",
            "Successfully installed selenium-3.141.0\n",
            "Get:1 http://ppa.launchpad.net/c2d4u.team/c2d4u4.0+/ubuntu bionic InRelease [15.9 kB]\n",
            "Hit:2 http://archive.ubuntu.com/ubuntu bionic InRelease\n",
            "Get:3 http://archive.ubuntu.com/ubuntu bionic-updates InRelease [88.7 kB]\n",
            "Get:4 https://cloud.r-project.org/bin/linux/ubuntu bionic-cran40/ InRelease [3,626 B]\n",
            "Hit:5 http://ppa.launchpad.net/cran/libgit2/ubuntu bionic InRelease\n",
            "Get:6 http://archive.ubuntu.com/ubuntu bionic-backports InRelease [74.6 kB]\n",
            "Get:7 http://ppa.launchpad.net/deadsnakes/ppa/ubuntu bionic InRelease [15.9 kB]\n",
            "Get:8 http://ppa.launchpad.net/graphics-drivers/ppa/ubuntu bionic InRelease [21.3 kB]\n",
            "Get:9 http://security.ubuntu.com/ubuntu bionic-security InRelease [88.7 kB]\n",
            "Ign:10 https://developer.download.nvidia.com/compute/cuda/repos/ubuntu1804/x86_64  InRelease\n",
            "Ign:11 https://developer.download.nvidia.com/compute/machine-learning/repos/ubuntu1804/x86_64  InRelease\n",
            "Get:12 https://developer.download.nvidia.com/compute/cuda/repos/ubuntu1804/x86_64  Release [697 B]\n",
            "Hit:13 https://developer.download.nvidia.com/compute/machine-learning/repos/ubuntu1804/x86_64  Release\n",
            "Get:14 https://developer.download.nvidia.com/compute/cuda/repos/ubuntu1804/x86_64  Release.gpg [836 B]\n",
            "Get:15 http://ppa.launchpad.net/c2d4u.team/c2d4u4.0+/ubuntu bionic/main Sources [1,779 kB]\n",
            "Get:16 http://ppa.launchpad.net/c2d4u.team/c2d4u4.0+/ubuntu bionic/main amd64 Packages [910 kB]\n",
            "Get:17 http://archive.ubuntu.com/ubuntu bionic-updates/restricted amd64 Packages [506 kB]\n",
            "Get:18 http://archive.ubuntu.com/ubuntu bionic-updates/universe amd64 Packages [2,188 kB]\n",
            "Get:19 http://archive.ubuntu.com/ubuntu bionic-updates/main amd64 Packages [2,657 kB]\n",
            "Get:20 http://ppa.launchpad.net/deadsnakes/ppa/ubuntu bionic/main amd64 Packages [40.8 kB]\n",
            "Get:21 http://ppa.launchpad.net/graphics-drivers/ppa/ubuntu bionic/main amd64 Packages [41.5 kB]\n",
            "Ign:23 https://developer.download.nvidia.com/compute/cuda/repos/ubuntu1804/x86_64  Packages\n",
            "Get:23 https://developer.download.nvidia.com/compute/cuda/repos/ubuntu1804/x86_64  Packages [634 kB]\n",
            "Get:24 http://security.ubuntu.com/ubuntu bionic-security/universe amd64 Packages [1,418 kB]\n",
            "Get:25 http://security.ubuntu.com/ubuntu bionic-security/main amd64 Packages [2,221 kB]\n",
            "Get:26 http://security.ubuntu.com/ubuntu bionic-security/restricted amd64 Packages [473 kB]\n",
            "Fetched 13.2 MB in 3s (4,691 kB/s)\n",
            "Reading package lists... Done\n",
            "Reading package lists... Done\n",
            "Building dependency tree       \n",
            "Reading state information... Done\n",
            "The following additional packages will be installed:\n",
            "  chromium-browser chromium-browser-l10n chromium-codecs-ffmpeg-extra\n",
            "Suggested packages:\n",
            "  webaccounts-chromium-extension unity-chromium-extension\n",
            "The following NEW packages will be installed:\n",
            "  chromium-browser chromium-browser-l10n chromium-chromedriver\n",
            "  chromium-codecs-ffmpeg-extra\n",
            "0 upgraded, 4 newly installed, 0 to remove and 97 not upgraded.\n",
            "Need to get 86.0 MB of archives.\n",
            "After this operation, 298 MB of additional disk space will be used.\n",
            "Get:1 http://archive.ubuntu.com/ubuntu bionic-updates/universe amd64 chromium-codecs-ffmpeg-extra amd64 91.0.4472.101-0ubuntu0.18.04.1 [1,124 kB]\n",
            "Get:2 http://archive.ubuntu.com/ubuntu bionic-updates/universe amd64 chromium-browser amd64 91.0.4472.101-0ubuntu0.18.04.1 [76.1 MB]\n",
            "Get:3 http://archive.ubuntu.com/ubuntu bionic-updates/universe amd64 chromium-browser-l10n all 91.0.4472.101-0ubuntu0.18.04.1 [3,937 kB]\n",
            "Get:4 http://archive.ubuntu.com/ubuntu bionic-updates/universe amd64 chromium-chromedriver amd64 91.0.4472.101-0ubuntu0.18.04.1 [4,837 kB]\n",
            "Fetched 86.0 MB in 1s (63.5 MB/s)\n",
            "Selecting previously unselected package chromium-codecs-ffmpeg-extra.\n",
            "(Reading database ... 160772 files and directories currently installed.)\n",
            "Preparing to unpack .../chromium-codecs-ffmpeg-extra_91.0.4472.101-0ubuntu0.18.04.1_amd64.deb ...\n",
            "Unpacking chromium-codecs-ffmpeg-extra (91.0.4472.101-0ubuntu0.18.04.1) ...\n",
            "Selecting previously unselected package chromium-browser.\n",
            "Preparing to unpack .../chromium-browser_91.0.4472.101-0ubuntu0.18.04.1_amd64.deb ...\n",
            "Unpacking chromium-browser (91.0.4472.101-0ubuntu0.18.04.1) ...\n",
            "Selecting previously unselected package chromium-browser-l10n.\n",
            "Preparing to unpack .../chromium-browser-l10n_91.0.4472.101-0ubuntu0.18.04.1_all.deb ...\n",
            "Unpacking chromium-browser-l10n (91.0.4472.101-0ubuntu0.18.04.1) ...\n",
            "Selecting previously unselected package chromium-chromedriver.\n",
            "Preparing to unpack .../chromium-chromedriver_91.0.4472.101-0ubuntu0.18.04.1_amd64.deb ...\n",
            "Unpacking chromium-chromedriver (91.0.4472.101-0ubuntu0.18.04.1) ...\n",
            "Setting up chromium-codecs-ffmpeg-extra (91.0.4472.101-0ubuntu0.18.04.1) ...\n",
            "Setting up chromium-browser (91.0.4472.101-0ubuntu0.18.04.1) ...\n",
            "update-alternatives: using /usr/bin/chromium-browser to provide /usr/bin/x-www-browser (x-www-browser) in auto mode\n",
            "update-alternatives: using /usr/bin/chromium-browser to provide /usr/bin/gnome-www-browser (gnome-www-browser) in auto mode\n",
            "Setting up chromium-chromedriver (91.0.4472.101-0ubuntu0.18.04.1) ...\n",
            "Setting up chromium-browser-l10n (91.0.4472.101-0ubuntu0.18.04.1) ...\n",
            "Processing triggers for man-db (2.8.3-2ubuntu0.1) ...\n",
            "Processing triggers for hicolor-icon-theme (0.17-2) ...\n",
            "Processing triggers for mime-support (3.60ubuntu1) ...\n",
            "Processing triggers for libc-bin (2.27-3ubuntu1.2) ...\n",
            "/sbin/ldconfig.real: /usr/local/lib/python3.7/dist-packages/ideep4py/lib/libmkldnn.so.0 is not a symbolic link\n",
            "\n",
            "cp: '/usr/lib/chromium-browser/chromedriver' and '/usr/bin/chromedriver' are the same file\n"
          ],
          "name": "stdout"
        },
        {
          "output_type": "stream",
          "text": [
            "/usr/local/lib/python3.7/dist-packages/ipykernel_launcher.py:12: DeprecationWarning: use options instead of chrome_options\n",
            "  if sys.path[0] == '':\n"
          ],
          "name": "stderr"
        }
      ]
    },
    {
      "cell_type": "code",
      "metadata": {
        "id": "uPXnAh3HQvdU"
      },
      "source": [
        "wd = webdriver.Chrome('chromedriver',chrome_options=chrome_options)"
      ],
      "execution_count": null,
      "outputs": []
    },
    {
      "cell_type": "code",
      "metadata": {
        "id": "fwnJNZXJvdj4"
      },
      "source": [
        "#!pip install selenium\n",
        "# importing all required library\n",
        "import pandas as pd\n",
        "import selenium\n",
        "from selenium import webdriver\n",
        "import time\n",
        "from selenium.common.exceptions import NoSuchElementException\n",
        "from selenium.common.exceptions import ElementClickInterceptedException\n",
        "\n"
      ],
      "execution_count": 4,
      "outputs": []
    },
    {
      "cell_type": "code",
      "metadata": {
        "id": "NwwW2N9NRRAB"
      },
      "source": [
        "# opening amazon website\n",
        "url = \"https://www.amazon.in/\"\n",
        "driver.get(url)\n",
        "time.sleep(2)"
      ],
      "execution_count": null,
      "outputs": []
    },
    {
      "cell_type": "markdown",
      "metadata": {
        "id": "aeucnPp2ar0Z"
      },
      "source": [
        "### **   1.Write a python program which searches all the product under a particular product from www.amazon.in. The product to be searched will be taken as input from user. For e.g. If user input is ‘guitar’. Then search for guitars.**"
      ]
    },
    {
      "cell_type": "code",
      "metadata": {
        "colab": {
          "base_uri": "https://localhost:8080/"
        },
        "id": "t-Jk_5vzR4FO",
        "outputId": "a2f86714-eea8-480e-94df-47249a17b8f4"
      },
      "source": [
        "url = \"https://www.amazon.in/\"\n",
        "driver.get(url)\n",
        "time.sleep(2)\n",
        "\n",
        "product = input(\"Enter the product name:\") #input from user \n",
        "\n",
        "while len(product) == 0:\n",
        "    product = input(\"Enter the product name:\")\n",
        "else:\n",
        "    search_bar = driver.find_element_by_id(\"twotabsearchtextbox\")\n",
        "    search_bar.clear()\n",
        "    search_bar.send_keys(product)\n",
        "\n",
        "# Searching the product\n",
        "driver.find_element_by_id(\"nav-search-submit-button\").click()    "
      ],
      "execution_count": null,
      "outputs": [
        {
          "output_type": "stream",
          "text": [
            "Enter the product name:guitar\n"
          ],
          "name": "stdout"
        }
      ]
    },
    {
      "cell_type": "markdown",
      "metadata": {
        "id": "eIFfDOIbX3JM"
      },
      "source": [
        "### 2 in the above question, now scrape the following details of each product listed in first 3 pages of your search results and save it in a dataframe and csv. In case if any product has less than 3 pages in search results then scrape all the products available under that product vertical. Details to be scraped are: \"Brand Name\", \"Name of the Product\", \"Rating\", \"No. of Ratings\", \"Price\", \"Return/Exchange\", \"Expected Delivery\", \"Availability\", \"Other Details\" and “Product URL”. In case, if any of the details are missing for any of the product then replace it by “-“"
      ]
    },
    {
      "cell_type": "code",
      "metadata": {
        "colab": {
          "base_uri": "https://localhost:8080/"
        },
        "id": "HBX7ORJMTIHk",
        "outputId": "21e4bee8-390a-49b1-e18b-bfaa1b0233dc"
      },
      "source": [
        "wd = webdriver.Chrome('chromedriver',chrome_options=chrome_options)"
      ],
      "execution_count": null,
      "outputs": [
        {
          "output_type": "stream",
          "text": [
            "/usr/local/lib/python3.7/dist-packages/ipykernel_launcher.py:1: DeprecationWarning: use options instead of chrome_options\n",
            "  \"\"\"Entry point for launching an IPython kernel.\n"
          ],
          "name": "stderr"
        }
      ]
    },
    {
      "cell_type": "code",
      "metadata": {
        "colab": {
          "base_uri": "https://localhost:8080/",
          "height": 302
        },
        "id": "88Sxhz5PR-BS",
        "outputId": "0c1456d9-35fd-4ebe-9689-9f0049d6dfee"
      },
      "source": [
        "# For Guitar product we are scraping all required detail.\n",
        "\n",
        "product_url = [] \n",
        "\n",
        "\n",
        "# using for loop collecting all 3 pages all product Url\n",
        "for i in range(0,2):  # next 2 pages moved by this loop\n",
        "    time.sleep(2)\n",
        "    for i in driver.find_elements_by_xpath(\"//a[@class='a-link-normal a-text-normal']\"):\n",
        "        product_url.append(i.get_attribute(\"href\"))\n",
        "        time.sleep(2)\n",
        "    driver.find_element_by_xpath(\"//li[@class='a-last']//a\").click()  #path for next key word\n",
        "    time.sleep(2)\n",
        "\n",
        "    \n",
        "# creating the empty list to scrap the data\n",
        "brand_name = []\n",
        "product_name = []\n",
        "rating = []\n",
        "num_rating = []\n",
        "price = []\n",
        "return_exchange = []\n",
        "exp_delivery = []\n",
        "avilablity = []\n",
        "other_detail = []\n",
        "\n",
        "\n",
        "\n",
        "for i in product_url:\n",
        "    driver.get(i)\n",
        "\n",
        "    try:\n",
        "        product = driver.find_element_by_id(\"productTitle\")\n",
        "        product_name.append(product.text)\n",
        "    except NoSuchElementException:\n",
        "        product_name.append(\"-\")\n",
        "         \n",
        "    try:\n",
        "        brand= driver.find_element_by_id(\"bylineInfo\")\n",
        "        brand_name.append(brand.text)\n",
        "    except NoSuchElementException:\n",
        "        brand_name.append(\"-\")\n",
        "    \n",
        "  \n",
        "    try:\n",
        "        rate = driver.find_element_by_xpath(\"//span[@class='a-size-base a-nowrap']//span\")\n",
        "        rating.append(rate.text)\n",
        "    except NoSuchElementException:\n",
        "        rating.append(\"-\")\n",
        "     \n",
        " \n",
        "    try:\n",
        "        num_rate =driver.find_element_by_xpath(\"//a[@id='acrCustomerReviewLink']//span[1]\")\n",
        "        num_rating.append(num_rate.text)\n",
        "    except NoSuchElementException:\n",
        "        num_rating.append(\"-\")\n",
        "    \n",
        "\n",
        "    try:\n",
        "        pri = driver.find_element_by_xpath(\"//span[@class='a-size-medium a-color-price priceBlockDealPriceString']\")\n",
        "        price.append(pri.text)\n",
        "    except NoSuchElementException:\n",
        "        price.append(\"-\")\n",
        "        \n",
        "    try:\n",
        "        return_pol =driver.find_element_by_xpath(\"//span[@class='a-declarative']//div[2]//a\")\n",
        "        return_exchange.append(return_pol.text)\n",
        "    except NoSuchElementException:\n",
        "        return_exchange.append(\"-\")\n",
        "                \n",
        "    try:            \n",
        "        exp_del = driver.find_element_by_xpath(\"//div[@id='ddmDeliveryMessage']//b\")\n",
        "        exp_delivery.append(exp_del.text)\n",
        "    except NoSuchElementException:\n",
        "         exp_delivery.append(\"-\")        \n",
        "    try:\n",
        "        avil = driver.find_element_by_xpath(\"//div[@id='availability']//span\")\n",
        "        avilablity.append(avil.text)\n",
        "    except NoSuchElementException:\n",
        "        avilablity.append(\"-\")\n",
        "   \n",
        "    try:\n",
        "        war_othr =driver.find_element_by_xpath(\"//div[@id='WARRANTY']//div[2]//a\")\n",
        "        other_detail.append(war_othr.text)\n",
        "    except NoSuchElementException:\n",
        "        other_detail.append(\"-\")\n",
        "                 \n",
        "    time.sleep(10)\n",
        "\n",
        "\n",
        "Guitar = pd.DataFrame()\n",
        "Guitar[\"Brand\"] = brand_name\n",
        "Guitar[\"Name of the Product\"] = product_name\n",
        "Guitar[\"Rating\"] = rating\n",
        "Guitar[\"No. of Ratings\"] = num_rating\n",
        "Guitar[\"Price\"] = price\n",
        "Guitar[\"Return/Exchange\"] = return_exchange\n",
        "Guitar[\"Expected Delivery\"] = exp_delivery\n",
        "Guitar[\"Availability\"] = avilablity\n",
        "Guitar[\"Other Details\"] = other_detail\n",
        "Guitar[\"Product URL\"] = product_url \n",
        "\n",
        "Guitar.to_csv(\"Guitar.csv\")\n",
        "Guitar.head()"
      ],
      "execution_count": null,
      "outputs": [
        {
          "output_type": "execute_result",
          "data": {
            "text/html": [
              "<div>\n",
              "<style scoped>\n",
              "    .dataframe tbody tr th:only-of-type {\n",
              "        vertical-align: middle;\n",
              "    }\n",
              "\n",
              "    .dataframe tbody tr th {\n",
              "        vertical-align: top;\n",
              "    }\n",
              "\n",
              "    .dataframe thead th {\n",
              "        text-align: right;\n",
              "    }\n",
              "</style>\n",
              "<table border=\"1\" class=\"dataframe\">\n",
              "  <thead>\n",
              "    <tr style=\"text-align: right;\">\n",
              "      <th></th>\n",
              "      <th>Brand</th>\n",
              "      <th>Name of the Product</th>\n",
              "      <th>Rating</th>\n",
              "      <th>No. of Ratings</th>\n",
              "      <th>Price</th>\n",
              "      <th>Return/Exchange</th>\n",
              "      <th>Expected Delivery</th>\n",
              "      <th>Availability</th>\n",
              "      <th>Other Details</th>\n",
              "      <th>Product URL</th>\n",
              "    </tr>\n",
              "  </thead>\n",
              "  <tbody>\n",
              "    <tr>\n",
              "      <th>0</th>\n",
              "      <td>Visit the Kadence Store</td>\n",
              "      <td>Kadence Acoustica Series Semi Acoustic Ash Woo...</td>\n",
              "      <td>3.9 out of 5</td>\n",
              "      <td>384 ratings</td>\n",
              "      <td>₹ 6,499.00</td>\n",
              "      <td>7 Days Replacement</td>\n",
              "      <td>Wednesday, July 7</td>\n",
              "      <td>In stock.</td>\n",
              "      <td>1 Year Warranty</td>\n",
              "      <td>https://www.amazon.in/gp/slredirect/picassoRed...</td>\n",
              "    </tr>\n",
              "    <tr>\n",
              "      <th>1</th>\n",
              "      <td>Visit the Kadence Store</td>\n",
              "      <td>Kadence Frontier Jumbo Semi Acoustic Guitar Wi...</td>\n",
              "      <td>3.9 out of 5</td>\n",
              "      <td>860 ratings</td>\n",
              "      <td>₹ 6,499.00</td>\n",
              "      <td>7 Days Replacement</td>\n",
              "      <td>Wednesday, July 7</td>\n",
              "      <td>In stock.</td>\n",
              "      <td>6 Month Warranty</td>\n",
              "      <td>https://www.amazon.in/gp/slredirect/picassoRed...</td>\n",
              "    </tr>\n",
              "    <tr>\n",
              "      <th>2</th>\n",
              "      <td>Visit the Kadence Store</td>\n",
              "      <td>Kadence Frontier Series,Blue Acoustic Guitar W...</td>\n",
              "      <td>4 out of 5</td>\n",
              "      <td>249 ratings</td>\n",
              "      <td>₹ 4,999.00</td>\n",
              "      <td>7 Days Replacement</td>\n",
              "      <td>Wednesday, July 7</td>\n",
              "      <td>In stock.</td>\n",
              "      <td>-</td>\n",
              "      <td>https://www.amazon.in/gp/slredirect/picassoRed...</td>\n",
              "    </tr>\n",
              "    <tr>\n",
              "      <th>3</th>\n",
              "      <td>Visit the Kadence Store</td>\n",
              "      <td>Kadence Slowhand Premium Jumbo Semi Acoustic G...</td>\n",
              "      <td>4.2 out of 5</td>\n",
              "      <td>222 ratings</td>\n",
              "      <td>₹ 10,499.00</td>\n",
              "      <td>7 Days Replacement</td>\n",
              "      <td>Wednesday, July 7</td>\n",
              "      <td>In stock.</td>\n",
              "      <td>1 Year Warranty</td>\n",
              "      <td>https://www.amazon.in/gp/slredirect/picassoRed...</td>\n",
              "    </tr>\n",
              "    <tr>\n",
              "      <th>4</th>\n",
              "      <td>Visit the JUAREZ Store</td>\n",
              "      <td>Juârez Acoustic Guitar, 38 Inch Cutaway, 038C ...</td>\n",
              "      <td>3.9 out of 5</td>\n",
              "      <td>10,665 ratings</td>\n",
              "      <td>-</td>\n",
              "      <td>7 Days Replacement</td>\n",
              "      <td>Sunday, July 4</td>\n",
              "      <td>In stock.</td>\n",
              "      <td>-</td>\n",
              "      <td>https://www.amazon.in/Juarez-Acoustic-Cutaway-...</td>\n",
              "    </tr>\n",
              "  </tbody>\n",
              "</table>\n",
              "</div>"
            ],
            "text/plain": [
              "                     Brand  ...                                        Product URL\n",
              "0  Visit the Kadence Store  ...  https://www.amazon.in/gp/slredirect/picassoRed...\n",
              "1  Visit the Kadence Store  ...  https://www.amazon.in/gp/slredirect/picassoRed...\n",
              "2  Visit the Kadence Store  ...  https://www.amazon.in/gp/slredirect/picassoRed...\n",
              "3  Visit the Kadence Store  ...  https://www.amazon.in/gp/slredirect/picassoRed...\n",
              "4   Visit the JUAREZ Store  ...  https://www.amazon.in/Juarez-Acoustic-Cutaway-...\n",
              "\n",
              "[5 rows x 10 columns]"
            ]
          },
          "metadata": {
            "tags": []
          },
          "execution_count": 40
        }
      ]
    },
    {
      "cell_type": "markdown",
      "metadata": {
        "id": "R2V_dACxXwt8"
      },
      "source": [
        "## 3 Write a python program to access the search bar and search button on image.s.google.com and scrape 100 images each for keywords ‘fruits’, ‘cars’ and ‘Machine Learning’.\n"
      ]
    },
    {
      "cell_type": "code",
      "metadata": {
        "colab": {
          "base_uri": "https://localhost:8080/",
          "height": 414
        },
        "id": "ANDeZF1vXzo1",
        "outputId": "b4ca3ebc-ffee-43ea-f000-f3e9ce9e52b5"
      },
      "source": [
        "# access the chrome drive\n",
        "wd = webdriver.Chrome('chromedriver',chrome_options=chrome_options)\n",
        "\n",
        "image_search = ['fruits','cars','machine learning']\n",
        "\n",
        "fruit_image = []\n",
        "car_image = []\n",
        "ML_image = []\n",
        "\n",
        "\n",
        "# iterating 3 types of image\n",
        "for i in image_search:\n",
        "    wd.get('https://www.google.co.in/imghp?hl=en&ogbl')\n",
        "    time.sleep(4)\n",
        "    \n",
        "    if i == 'fruits':\n",
        "        search = wd.find_element_by_xpath(\"//input[@class='gLFyf gsfi']\").send_keys(i)\n",
        "        wd.find_element_by_xpath(\"//span[@class='z1asCe MZy1Rb']\").click()\n",
        "        time.sleep(2)\n",
        "      \n",
        "        for i in range(0,3):\n",
        "            for i in wd.find_elements_by_xpath(\"//img[@class='rg_i Q4LuWd']\"):\n",
        "                if len(fruit_image) < 100:\n",
        "                    fruit_image.append(i.get_attribute(\"src\"))\n",
        "                    time.sleep(2)\n",
        "                else:\n",
        "                    break\n",
        "        \n",
        "        \n",
        "     \n",
        "    elif i == 'cars':   \n",
        "        search = wd.find_element_by_xpath(\"//input[@class='gLFyf gsfi']\").send_keys(i)\n",
        "        time.sleep(2)\n",
        "        wd.find_element_by_xpath(\"//span[@class='z1asCe MZy1Rb']\").click()\n",
        "        time.sleep(2)\n",
        "        \n",
        "       \n",
        "        for i in range(0,3):\n",
        "            for i in drive.find_elements_by_xpath(\"//img[@class='rg_i Q4LuWd']\"):\n",
        "                if len(car_image) < 100:\n",
        "                    car_image.append(i.get_attribute(\"src\"))\n",
        "                    time.sleep(2)\n",
        "                else:\n",
        "                    break\n",
        "         \n",
        "        \n",
        "    #Scraping the machine learning detail     \n",
        "    elif i == 'machine learning':\n",
        "        # Accessing search bar and search button\n",
        "        search = wd.find_element_by_xpath(\"//input[@class='gLFyf gsfi']\").send_keys(i)\n",
        "        time.sleep(2)\n",
        "        wd.find_element_by_xpath(\"//span[@class='z1asCe MZy1Rb']\").click()\n",
        "        time.sleep(2)\n",
        "        \n",
        "        # first 100 image of machinelearning scraping        \n",
        "        for i in range(0,3):\n",
        "            for i in wd.find_elements_by_xpath(\"//img[@class='rg_i Q4LuWd']\"):\n",
        "                if len(ML) < 100:\n",
        "                    ML.append(i.get_attribute(\"src\"))\n",
        "                    time.sleep(2)\n",
        "                else:\n",
        "                    break\n",
        "      \n",
        "\n",
        "image = pd.DataFrame()\n",
        "image['fruit_image'] = fruit_image  \n",
        "image['car_image'] = car_image\n",
        "image['ML_image'] = ML_image\n",
        "\n",
        "image.to_csv(\"Image.csv\")  \n",
        "image"
      ],
      "execution_count": null,
      "outputs": [
        {
          "output_type": "execute_result",
          "data": {
            "text/html": [
              "<div>\n",
              "<style scoped>\n",
              "    .dataframe tbody tr th:only-of-type {\n",
              "        vertical-align: middle;\n",
              "    }\n",
              "\n",
              "    .dataframe tbody tr th {\n",
              "        vertical-align: top;\n",
              "    }\n",
              "\n",
              "    .dataframe thead th {\n",
              "        text-align: right;\n",
              "    }\n",
              "</style>\n",
              "<table border=\"1\" class=\"dataframe\">\n",
              "  <thead>\n",
              "    <tr style=\"text-align: right;\">\n",
              "      <th></th>\n",
              "      <th>fruit_image</th>\n",
              "      <th>car_image</th>\n",
              "      <th>ML_image</th>\n",
              "    </tr>\n",
              "  </thead>\n",
              "  <tbody>\n",
              "    <tr>\n",
              "      <th>0</th>\n",
              "      <td>data:image/jpeg;base64,/9j/4AAQSkZJRgABAQAAAQA...</td>\n",
              "      <td>data:image/jpeg;base64,/9j/4AAQSkZJRgABAQAAAQA...</td>\n",
              "      <td>data:image/jpeg;base64,/9j/4AAQSkZJRgABAQAAAQA...</td>\n",
              "    </tr>\n",
              "    <tr>\n",
              "      <th>1</th>\n",
              "      <td>data:image/jpeg;base64,/9j/4AAQSkZJRgABAQAAAQA...</td>\n",
              "      <td>data:image/jpeg;base64,/9j/4AAQSkZJRgABAQAAAQA...</td>\n",
              "      <td>data:image/jpeg;base64,/9j/4AAQSkZJRgABAQAAAQA...</td>\n",
              "    </tr>\n",
              "    <tr>\n",
              "      <th>2</th>\n",
              "      <td>data:image/jpeg;base64,/9j/4AAQSkZJRgABAQAAAQA...</td>\n",
              "      <td>data:image/jpeg;base64,/9j/4AAQSkZJRgABAQAAAQA...</td>\n",
              "      <td>data:image/jpeg;base64,/9j/4AAQSkZJRgABAQAAAQA...</td>\n",
              "    </tr>\n",
              "    <tr>\n",
              "      <th>3</th>\n",
              "      <td>data:image/jpeg;base64,/9j/4AAQSkZJRgABAQAAAQA...</td>\n",
              "      <td>data:image/jpeg;base64,/9j/4AAQSkZJRgABAQAAAQA...</td>\n",
              "      <td>data:image/png;base64,iVBORw0KGgoAAAANSUhEUgAA...</td>\n",
              "    </tr>\n",
              "    <tr>\n",
              "      <th>4</th>\n",
              "      <td>data:image/jpeg;base64,/9j/4AAQSkZJRgABAQAAAQA...</td>\n",
              "      <td>data:image/jpeg;base64,/9j/4AAQSkZJRgABAQAAAQA...</td>\n",
              "      <td>data:image/jpeg;base64,/9j/4AAQSkZJRgABAQAAAQA...</td>\n",
              "    </tr>\n",
              "    <tr>\n",
              "      <th>...</th>\n",
              "      <td>...</td>\n",
              "      <td>...</td>\n",
              "      <td>...</td>\n",
              "    </tr>\n",
              "    <tr>\n",
              "      <th>95</th>\n",
              "      <td>None</td>\n",
              "      <td>None</td>\n",
              "      <td>None</td>\n",
              "    </tr>\n",
              "    <tr>\n",
              "      <th>96</th>\n",
              "      <td>data:image/jpeg;base64,/9j/4AAQSkZJRgABAQAAAQA...</td>\n",
              "      <td>data:image/jpeg;base64,/9j/4AAQSkZJRgABAQAAAQA...</td>\n",
              "      <td>data:image/jpeg;base64,/9j/4AAQSkZJRgABAQAAAQA...</td>\n",
              "    </tr>\n",
              "    <tr>\n",
              "      <th>97</th>\n",
              "      <td>data:image/jpeg;base64,/9j/4AAQSkZJRgABAQAAAQA...</td>\n",
              "      <td>data:image/jpeg;base64,/9j/4AAQSkZJRgABAQAAAQA...</td>\n",
              "      <td>data:image/jpeg;base64,/9j/4AAQSkZJRgABAQAAAQA...</td>\n",
              "    </tr>\n",
              "    <tr>\n",
              "      <th>98</th>\n",
              "      <td>data:image/jpeg;base64,/9j/4AAQSkZJRgABAQAAAQA...</td>\n",
              "      <td>data:image/jpeg;base64,/9j/4AAQSkZJRgABAQAAAQA...</td>\n",
              "      <td>data:image/jpeg;base64,/9j/4AAQSkZJRgABAQAAAQA...</td>\n",
              "    </tr>\n",
              "    <tr>\n",
              "      <th>99</th>\n",
              "      <td>data:image/jpeg;base64,/9j/4AAQSkZJRgABAQAAAQA...</td>\n",
              "      <td>data:image/jpeg;base64,/9j/4AAQSkZJRgABAQAAAQA...</td>\n",
              "      <td>data:image/png;base64,iVBORw0KGgoAAAANSUhEUgAA...</td>\n",
              "    </tr>\n",
              "  </tbody>\n",
              "</table>\n",
              "<p>100 rows × 3 columns</p>\n",
              "</div>"
            ],
            "text/plain": [
              "                                          fruit_image  ...                                           ML_image\n",
              "0   data:image/jpeg;base64,/9j/4AAQSkZJRgABAQAAAQA...  ...  data:image/jpeg;base64,/9j/4AAQSkZJRgABAQAAAQA...\n",
              "1   data:image/jpeg;base64,/9j/4AAQSkZJRgABAQAAAQA...  ...  data:image/jpeg;base64,/9j/4AAQSkZJRgABAQAAAQA...\n",
              "2   data:image/jpeg;base64,/9j/4AAQSkZJRgABAQAAAQA...  ...  data:image/jpeg;base64,/9j/4AAQSkZJRgABAQAAAQA...\n",
              "3   data:image/jpeg;base64,/9j/4AAQSkZJRgABAQAAAQA...  ...  data:image/png;base64,iVBORw0KGgoAAAANSUhEUgAA...\n",
              "4   data:image/jpeg;base64,/9j/4AAQSkZJRgABAQAAAQA...  ...  data:image/jpeg;base64,/9j/4AAQSkZJRgABAQAAAQA...\n",
              "..                                                ...  ...                                                ...\n",
              "95                                               None  ...                                               None\n",
              "96  data:image/jpeg;base64,/9j/4AAQSkZJRgABAQAAAQA...  ...  data:image/jpeg;base64,/9j/4AAQSkZJRgABAQAAAQA...\n",
              "97  data:image/jpeg;base64,/9j/4AAQSkZJRgABAQAAAQA...  ...  data:image/jpeg;base64,/9j/4AAQSkZJRgABAQAAAQA...\n",
              "98  data:image/jpeg;base64,/9j/4AAQSkZJRgABAQAAAQA...  ...  data:image/jpeg;base64,/9j/4AAQSkZJRgABAQAAAQA...\n",
              "99  data:image/jpeg;base64,/9j/4AAQSkZJRgABAQAAAQA...  ...  data:image/png;base64,iVBORw0KGgoAAAANSUhEUgAA...\n",
              "\n",
              "[100 rows x 3 columns]"
            ]
          },
          "metadata": {
            "tags": []
          },
          "execution_count": 44
        }
      ]
    },
    {
      "cell_type": "markdown",
      "metadata": {
        "id": "tv31pFE2Y4k9"
      },
      "source": [
        "#### 4. Write a python program to search for a smartphone(e.g.: Oneplus Nord, pixel 4A, etc.) on www.flipkart.com and scrape following details for all the search results displayed on 1st page.Details to be scraped: “Brand Name”, “Smartphone name”, “Colour”, “RAM”, “Storage(ROM)”, “Primary Camera”, “Secondary Camera”, “Display Size”, “Display Resolution”, “Processor”, “Processor Cores”, “Battery Capacity”, “Price”, “Product URL”. In case if any of the details is missing then replace it by “- “. Save your results in a dataframe and CSV.\n"
      ]
    },
    {
      "cell_type": "code",
      "metadata": {
        "colab": {
          "base_uri": "https://localhost:8080/"
        },
        "id": "lQbZh081D3Co",
        "outputId": "d9f272a5-576e-4d94-efb3-a22953b46133"
      },
      "source": [
        "wd = webdriver.Chrome('chromedriver',chrome_options=chrome_options)"
      ],
      "execution_count": null,
      "outputs": [
        {
          "output_type": "stream",
          "text": [
            "/usr/local/lib/python3.7/dist-packages/ipykernel_launcher.py:1: DeprecationWarning: use options instead of chrome_options\n",
            "  \"\"\"Entry point for launching an IPython kernel.\n"
          ],
          "name": "stderr"
        }
      ]
    },
    {
      "cell_type": "code",
      "metadata": {
        "id": "Vhxg-pGiTKhT",
        "colab": {
          "base_uri": "https://localhost:8080/"
        },
        "outputId": "5d9c35ad-dd0f-42ff-e88f-44d4cfe2c97a"
      },
      "source": [
        "url = \"https://www.flipkart.com/\"\n",
        "wd.get(url)\n",
        "\n",
        "\n",
        "#detaill need to scrap\n",
        "Brand_name = []\n",
        "Model_name = []\n",
        "color = []\n",
        "ram = []\n",
        "storage = []\n",
        "Rear_cam = []\n",
        "Front_cam =[]\n",
        "batttary_capacity = []\n",
        "processor =[]\n",
        "price = []\n",
        "\n",
        "\n",
        "#closing the login window\n",
        "try:\n",
        "  wd.find_element_by_xpath(\"//button[@class='_2KpZ6l _2doB4z']\").click()\n",
        "  time.sleep(2)\n",
        "except NoSuchElementException:\n",
        "  #searching for brands \n",
        "  Brands = input(\"Search for products, Brands and More:  \") #input from user \n",
        "  search_box = wd.find_element_by_xpath(\"//input[@class='_3704LK']\")\n",
        "  time.sleep(2)\n",
        "  search_box.send_keys(Brands)\n",
        "\n",
        "  #giving search \n",
        "  wd.find_element_by_xpath(\"//button[@class='L0Z3Pu']\").click()"
      ],
      "execution_count": null,
      "outputs": [
        {
          "output_type": "stream",
          "text": [
            "Search for products, Brands and More:  Smartphones\n"
          ],
          "name": "stdout"
        }
      ]
    },
    {
      "cell_type": "code",
      "metadata": {
        "id": "L74_XM8NmG6e"
      },
      "source": [
        "#Sacraping the  Brand name ,model name , color of model \n",
        "for i in wd.find_elements_by_xpath(\"//div[@class='_4rR01T']\"):\n",
        "        Brand_name.append(i.text.split(\" \")[0])\n",
        "        Model_name.append(i.text.split(\" \")[1])\n",
        "        #color.append(i.text.split(\"(\")[0])\n",
        "        color.append(i.text.split(\"(\")[1].split(\",\")[0])\n",
        "\n",
        "\"\"\" Scarping the RAM details \"\"\"\n",
        "for i in wd.find_elements_by_xpath(\"//div[@class='fMghEO']//li[1]\"):\n",
        "  ram.append(i.text.split(\"|\")[0])\n",
        "  storage.append(i.text.split(\"|\")[1])\n",
        "       \n",
        "\"\"\" Scarping the camera details \"\"\"\n",
        "for i in wd.find_elements_by_xpath(\"//div[@class='fMghEO']//li[3]\"):\n",
        "  Rear_cam.append(i.text.split(\"|\")[0])\n",
        "  Front_cam.append(i.text.split(\"|\")[1])\n",
        "\n",
        "\"\"\" Scarping the Battray capacity \"\"\"\n",
        "for i in wd.find_elements_by_xpath(\"//div[@class='fMghEO']//li[4]\"):\n",
        "  batttary_capacity.append(i.text)\n",
        "\n",
        "\"\"\" Scarping the Processor details \"\"\"\n",
        "for i in wd.find_elements_by_xpath(\"//div[@class='fMghEO']//li[5]\"):\n",
        "  processor.append(i.text)\n",
        "\n",
        "\"\"\" Scarping the Price details \"\"\"\n",
        "for i in wd.find_elements_by_xpath(\"//div[@class='_30jeq3 _1_WHN1']\"):\n",
        "  price.append(i.text)\n",
        "\n",
        "\n",
        "Product_url=[] \n",
        "\"\"\" Scarping the products URL link \"\"\"\n",
        "for i in wd.find_elements_by_xpath(\"//a[@class='_1fQZEK']\"):\n",
        "  Product_url.append(i.get_attribute('href'))\n",
        "\n",
        "\n",
        "\"\"\" Scarping the Processor cores  \"\"\"\n",
        "Processor_cores=[]\n",
        "\n",
        "for i in Product_url:\n",
        "    wd.get(i)\n",
        "    try:\n",
        "        wd.find_element_by_xpath(\"//button[@class='_2KpZ6l _1FH0tX']\").click()\n",
        "        time.sleep(5)\n",
        "    except ElementClickInterceptedException:\n",
        "        pass\n",
        "    \n",
        "    try:\n",
        "        wd.execute_script(\"window.scrollTo(0,2500)\")\n",
        "        time.sleep(4)\n",
        "        cor=wd.find_element_by_xpath('/html/body/div[1]/div/div[3]/div[1]/div[2]/div[9]/div[5]/div/div[2]/div[1]/div[3]/table/tbody/tr[3]/td[2]/ul/li')\n",
        "        Processor_cores.append(cor.text)\n",
        "        time.sleep(5)\n",
        "    except:\n",
        "        Processor_cores.append(\"-\")      \n",
        "\n",
        "\n",
        "\n"
      ],
      "execution_count": 5,
      "outputs": []
    },
    {
      "cell_type": "code",
      "metadata": {
        "colab": {
          "base_uri": "https://localhost:8080/",
          "height": 302
        },
        "id": "oXi8ZIpB_7bo",
        "outputId": "772889ed-d2fc-4664-9770-93f39e54e4fb"
      },
      "source": [
        "Phone_list = pd.DataFrame({ })\n",
        "\n",
        "Phone_list['Brand']=Brand_name\n",
        "Phone_list['Model'] =Model_name\n",
        "Phone_list['Color'] =color\n",
        "Phone_list['Ram']= ram\n",
        "Phone_list['Storage']= storage\n",
        "Phone_list['Rear Camera'] =Rear_cam\n",
        "Phone_list['Front Camera'] = Front_cam\n",
        "Phone_list['Battery'] =batttary_capacity\n",
        "Phone_list['Processor'] =processor\n",
        "Phone_list['Price'] =price\n",
        "Phone_list['Product URL'] = Product_url\n",
        "Phone_list['Processor cores'] = Processor_cores\n",
        "\n",
        "Phone_list.head()"
      ],
      "execution_count": null,
      "outputs": [
        {
          "output_type": "execute_result",
          "data": {
            "text/html": [
              "<div>\n",
              "<style scoped>\n",
              "    .dataframe tbody tr th:only-of-type {\n",
              "        vertical-align: middle;\n",
              "    }\n",
              "\n",
              "    .dataframe tbody tr th {\n",
              "        vertical-align: top;\n",
              "    }\n",
              "\n",
              "    .dataframe thead th {\n",
              "        text-align: right;\n",
              "    }\n",
              "</style>\n",
              "<table border=\"1\" class=\"dataframe\">\n",
              "  <thead>\n",
              "    <tr style=\"text-align: right;\">\n",
              "      <th></th>\n",
              "      <th>Brand</th>\n",
              "      <th>Model</th>\n",
              "      <th>Color</th>\n",
              "      <th>Ram</th>\n",
              "      <th>Storage</th>\n",
              "      <th>Rear Camera</th>\n",
              "      <th>Front Camera</th>\n",
              "      <th>Battery</th>\n",
              "      <th>Processor</th>\n",
              "      <th>Price</th>\n",
              "      <th>Product URL</th>\n",
              "      <th>Processor cores</th>\n",
              "    </tr>\n",
              "  </thead>\n",
              "  <tbody>\n",
              "    <tr>\n",
              "      <th>0</th>\n",
              "      <td>realme</td>\n",
              "      <td>C21</td>\n",
              "      <td>Cross Black</td>\n",
              "      <td>4 GB RAM</td>\n",
              "      <td>64 GB ROM</td>\n",
              "      <td>13MP + 2MP + 2MP</td>\n",
              "      <td>5MP Front Camera</td>\n",
              "      <td>5000 mAh Battery</td>\n",
              "      <td>MediaTek Helio G35 Processor</td>\n",
              "      <td>₹8,999</td>\n",
              "      <td>https://www.flipkart.com/realme-c21-cross-blac...</td>\n",
              "      <td>-</td>\n",
              "    </tr>\n",
              "    <tr>\n",
              "      <th>1</th>\n",
              "      <td>realme</td>\n",
              "      <td>C21</td>\n",
              "      <td>Cross Black</td>\n",
              "      <td>3 GB RAM</td>\n",
              "      <td>32 GB ROM</td>\n",
              "      <td>13MP + 2MP + 2MP</td>\n",
              "      <td>5MP Front Camera</td>\n",
              "      <td>5000 mAh Battery</td>\n",
              "      <td>MediaTek Helio G35 Processor</td>\n",
              "      <td>₹7,999</td>\n",
              "      <td>https://www.flipkart.com/realme-c21-cross-blac...</td>\n",
              "      <td>-</td>\n",
              "    </tr>\n",
              "    <tr>\n",
              "      <th>2</th>\n",
              "      <td>realme</td>\n",
              "      <td>C21</td>\n",
              "      <td>Cross Blue</td>\n",
              "      <td>4 GB RAM</td>\n",
              "      <td>64 GB ROM</td>\n",
              "      <td>13MP + 2MP + 2MP</td>\n",
              "      <td>5MP Front Camera</td>\n",
              "      <td>5000 mAh Battery</td>\n",
              "      <td>MediaTek Helio G35 Processor</td>\n",
              "      <td>₹8,999</td>\n",
              "      <td>https://www.flipkart.com/realme-c21-cross-blue...</td>\n",
              "      <td>-</td>\n",
              "    </tr>\n",
              "    <tr>\n",
              "      <th>3</th>\n",
              "      <td>POCO</td>\n",
              "      <td>M3</td>\n",
              "      <td>Cool Blue</td>\n",
              "      <td>6 GB RAM</td>\n",
              "      <td>64 GB ROM</td>\n",
              "      <td>48MP + 2MP + 2MP</td>\n",
              "      <td>8MP Front Camera</td>\n",
              "      <td>6000 mAh Lithium-ion Polymer Battery</td>\n",
              "      <td>Qualcomm Snapdragon 662 Processor</td>\n",
              "      <td>₹10,999</td>\n",
              "      <td>https://www.flipkart.com/poco-m3-cool-blue-64-...</td>\n",
              "      <td>Octa Core</td>\n",
              "    </tr>\n",
              "    <tr>\n",
              "      <th>4</th>\n",
              "      <td>Infinix</td>\n",
              "      <td>Hot</td>\n",
              "      <td>Morandi Green</td>\n",
              "      <td>4 GB RAM</td>\n",
              "      <td>64 GB ROM</td>\n",
              "      <td>13MP + Depth Sensor</td>\n",
              "      <td>8MP Front Camera</td>\n",
              "      <td>6000 mAh Li-ion Polymer Battery</td>\n",
              "      <td>MediaTek Helio G35 Processor</td>\n",
              "      <td>₹8,499</td>\n",
              "      <td>https://www.flipkart.com/infinix-hot-10-play-m...</td>\n",
              "      <td>Octa Core</td>\n",
              "    </tr>\n",
              "  </tbody>\n",
              "</table>\n",
              "</div>"
            ],
            "text/plain": [
              "     Brand  ... Processor cores\n",
              "0   realme  ...               -\n",
              "1   realme  ...               -\n",
              "2   realme  ...               -\n",
              "3     POCO  ...       Octa Core\n",
              "4  Infinix  ...       Octa Core\n",
              "\n",
              "[5 rows x 12 columns]"
            ]
          },
          "metadata": {
            "tags": []
          },
          "execution_count": 32
        }
      ]
    },
    {
      "cell_type": "code",
      "metadata": {
        "id": "PkkL1b4u_7Va"
      },
      "source": [
        "\n",
        "\"\"\" Exporting the Scraped detail to CSV file\"\"\"\n",
        "Phone_list.to_csv(\"Phone_list.csv\")\n"
      ],
      "execution_count": null,
      "outputs": []
    },
    {
      "cell_type": "markdown",
      "metadata": {
        "id": "WFk3vlfqTr9B"
      },
      "source": [
        "### **5 Write a program to scrap geospatial coordinates (latitude, longitude) of a city searched on google maps.**"
      ]
    },
    {
      "cell_type": "code",
      "metadata": {
        "colab": {
          "base_uri": "https://localhost:8080/"
        },
        "id": "dV56DW5GUJkQ",
        "outputId": "bc5e8763-fd94-455c-b65c-884f3421cfbc"
      },
      "source": [
        "wd = webdriver.Chrome('chromedriver',chrome_options=chrome_options)"
      ],
      "execution_count": null,
      "outputs": [
        {
          "output_type": "stream",
          "text": [
            "/usr/local/lib/python3.7/dist-packages/ipykernel_launcher.py:1: DeprecationWarning: use options instead of chrome_options\n",
            "  \"\"\"Entry point for launching an IPython kernel.\n"
          ],
          "name": "stderr"
        }
      ]
    },
    {
      "cell_type": "code",
      "metadata": {
        "id": "Z4aEPXRMhXFJ"
      },
      "source": [
        ""
      ],
      "execution_count": null,
      "outputs": []
    },
    {
      "cell_type": "code",
      "metadata": {
        "id": "7kITBNtjxcja"
      },
      "source": [
        "place = []\n",
        "lattitude=[]\n",
        "longitude =[]\n",
        "url =[]"
      ],
      "execution_count": null,
      "outputs": []
    },
    {
      "cell_type": "code",
      "metadata": {
        "colab": {
          "base_uri": "https://localhost:8080/",
          "height": 458
        },
        "id": "5lydzzOihXBv",
        "outputId": "849a6ed4-aefb-4a32-960c-49324f292c8b"
      },
      "source": [
        "wd = webdriver.Chrome('chromedriver',chrome_options=chrome_options)\n",
        "\n",
        "url =\"https://www.google.com/maps/@28.4621246,77.0911045,15z\"\n",
        "wd.get(url)\n",
        "time.sleep(4)\n",
        "\n",
        "\n",
        "place_name = input('Enter the place Name : ')                                \n",
        "place.append(place_name) \n",
        "\n",
        "search_box = wd.find_element_by_id(\"gs_lc50\")               \n",
        " \n",
        "search_box.clear()               \n",
        "search_box.send_keys(place_name)\n",
        "\n",
        "wd.find_element_by_id(\"searchbox-searchbutton\").click()    \n",
        "time.sleep(3)\n",
        "\n",
        "\n",
        "  "
      ],
      "execution_count": null,
      "outputs": [
        {
          "output_type": "stream",
          "text": [
            "/usr/local/lib/python3.7/dist-packages/ipykernel_launcher.py:1: DeprecationWarning: use options instead of chrome_options\n",
            "  \"\"\"Entry point for launching an IPython kernel.\n"
          ],
          "name": "stderr"
        },
        {
          "output_type": "stream",
          "text": [
            "Enter the place Name : delhi\n"
          ],
          "name": "stdout"
        },
        {
          "output_type": "error",
          "ename": "NoSuchElementException",
          "evalue": "ignored",
          "traceback": [
            "\u001b[0;31m---------------------------------------------------------------------------\u001b[0m",
            "\u001b[0;31mNoSuchElementException\u001b[0m                    Traceback (most recent call last)",
            "\u001b[0;32m<ipython-input-83-2624c9f2bdbe>\u001b[0m in \u001b[0;36m<module>\u001b[0;34m()\u001b[0m\n\u001b[1;32m      9\u001b[0m \u001b[0mplace\u001b[0m\u001b[0;34m.\u001b[0m\u001b[0mappend\u001b[0m\u001b[0;34m(\u001b[0m\u001b[0mplace_name\u001b[0m\u001b[0;34m)\u001b[0m\u001b[0;34m\u001b[0m\u001b[0;34m\u001b[0m\u001b[0m\n\u001b[1;32m     10\u001b[0m \u001b[0;34m\u001b[0m\u001b[0m\n\u001b[0;32m---> 11\u001b[0;31m \u001b[0msearch_box\u001b[0m \u001b[0;34m=\u001b[0m \u001b[0mwd\u001b[0m\u001b[0;34m.\u001b[0m\u001b[0mfind_element_by_id\u001b[0m\u001b[0;34m(\u001b[0m\u001b[0;34m\"gs_lc50\"\u001b[0m\u001b[0;34m)\u001b[0m\u001b[0;34m\u001b[0m\u001b[0;34m\u001b[0m\u001b[0m\n\u001b[0m\u001b[1;32m     12\u001b[0m \u001b[0;34m\u001b[0m\u001b[0m\n\u001b[1;32m     13\u001b[0m \u001b[0msearch_box\u001b[0m\u001b[0;34m.\u001b[0m\u001b[0mclear\u001b[0m\u001b[0;34m(\u001b[0m\u001b[0;34m)\u001b[0m\u001b[0;34m\u001b[0m\u001b[0;34m\u001b[0m\u001b[0m\n",
            "\u001b[0;32m/usr/local/lib/python3.7/dist-packages/selenium/webdriver/remote/webdriver.py\u001b[0m in \u001b[0;36mfind_element_by_id\u001b[0;34m(self, id_)\u001b[0m\n\u001b[1;32m    358\u001b[0m             \u001b[0melement\u001b[0m \u001b[0;34m=\u001b[0m \u001b[0mdriver\u001b[0m\u001b[0;34m.\u001b[0m\u001b[0mfind_element_by_id\u001b[0m\u001b[0;34m(\u001b[0m\u001b[0;34m'foo'\u001b[0m\u001b[0;34m)\u001b[0m\u001b[0;34m\u001b[0m\u001b[0;34m\u001b[0m\u001b[0m\n\u001b[1;32m    359\u001b[0m         \"\"\"\n\u001b[0;32m--> 360\u001b[0;31m         \u001b[0;32mreturn\u001b[0m \u001b[0mself\u001b[0m\u001b[0;34m.\u001b[0m\u001b[0mfind_element\u001b[0m\u001b[0;34m(\u001b[0m\u001b[0mby\u001b[0m\u001b[0;34m=\u001b[0m\u001b[0mBy\u001b[0m\u001b[0;34m.\u001b[0m\u001b[0mID\u001b[0m\u001b[0;34m,\u001b[0m \u001b[0mvalue\u001b[0m\u001b[0;34m=\u001b[0m\u001b[0mid_\u001b[0m\u001b[0;34m)\u001b[0m\u001b[0;34m\u001b[0m\u001b[0;34m\u001b[0m\u001b[0m\n\u001b[0m\u001b[1;32m    361\u001b[0m \u001b[0;34m\u001b[0m\u001b[0m\n\u001b[1;32m    362\u001b[0m     \u001b[0;32mdef\u001b[0m \u001b[0mfind_elements_by_id\u001b[0m\u001b[0;34m(\u001b[0m\u001b[0mself\u001b[0m\u001b[0;34m,\u001b[0m \u001b[0mid_\u001b[0m\u001b[0;34m)\u001b[0m\u001b[0;34m:\u001b[0m\u001b[0;34m\u001b[0m\u001b[0;34m\u001b[0m\u001b[0m\n",
            "\u001b[0;32m/usr/local/lib/python3.7/dist-packages/selenium/webdriver/remote/webdriver.py\u001b[0m in \u001b[0;36mfind_element\u001b[0;34m(self, by, value)\u001b[0m\n\u001b[1;32m    976\u001b[0m         return self.execute(Command.FIND_ELEMENT, {\n\u001b[1;32m    977\u001b[0m             \u001b[0;34m'using'\u001b[0m\u001b[0;34m:\u001b[0m \u001b[0mby\u001b[0m\u001b[0;34m,\u001b[0m\u001b[0;34m\u001b[0m\u001b[0;34m\u001b[0m\u001b[0m\n\u001b[0;32m--> 978\u001b[0;31m             'value': value})['value']\n\u001b[0m\u001b[1;32m    979\u001b[0m \u001b[0;34m\u001b[0m\u001b[0m\n\u001b[1;32m    980\u001b[0m     \u001b[0;32mdef\u001b[0m \u001b[0mfind_elements\u001b[0m\u001b[0;34m(\u001b[0m\u001b[0mself\u001b[0m\u001b[0;34m,\u001b[0m \u001b[0mby\u001b[0m\u001b[0;34m=\u001b[0m\u001b[0mBy\u001b[0m\u001b[0;34m.\u001b[0m\u001b[0mID\u001b[0m\u001b[0;34m,\u001b[0m \u001b[0mvalue\u001b[0m\u001b[0;34m=\u001b[0m\u001b[0;32mNone\u001b[0m\u001b[0;34m)\u001b[0m\u001b[0;34m:\u001b[0m\u001b[0;34m\u001b[0m\u001b[0;34m\u001b[0m\u001b[0m\n",
            "\u001b[0;32m/usr/local/lib/python3.7/dist-packages/selenium/webdriver/remote/webdriver.py\u001b[0m in \u001b[0;36mexecute\u001b[0;34m(self, driver_command, params)\u001b[0m\n\u001b[1;32m    319\u001b[0m         \u001b[0mresponse\u001b[0m \u001b[0;34m=\u001b[0m \u001b[0mself\u001b[0m\u001b[0;34m.\u001b[0m\u001b[0mcommand_executor\u001b[0m\u001b[0;34m.\u001b[0m\u001b[0mexecute\u001b[0m\u001b[0;34m(\u001b[0m\u001b[0mdriver_command\u001b[0m\u001b[0;34m,\u001b[0m \u001b[0mparams\u001b[0m\u001b[0;34m)\u001b[0m\u001b[0;34m\u001b[0m\u001b[0;34m\u001b[0m\u001b[0m\n\u001b[1;32m    320\u001b[0m         \u001b[0;32mif\u001b[0m \u001b[0mresponse\u001b[0m\u001b[0;34m:\u001b[0m\u001b[0;34m\u001b[0m\u001b[0;34m\u001b[0m\u001b[0m\n\u001b[0;32m--> 321\u001b[0;31m             \u001b[0mself\u001b[0m\u001b[0;34m.\u001b[0m\u001b[0merror_handler\u001b[0m\u001b[0;34m.\u001b[0m\u001b[0mcheck_response\u001b[0m\u001b[0;34m(\u001b[0m\u001b[0mresponse\u001b[0m\u001b[0;34m)\u001b[0m\u001b[0;34m\u001b[0m\u001b[0;34m\u001b[0m\u001b[0m\n\u001b[0m\u001b[1;32m    322\u001b[0m             response['value'] = self._unwrap_value(\n\u001b[1;32m    323\u001b[0m                 response.get('value', None))\n",
            "\u001b[0;32m/usr/local/lib/python3.7/dist-packages/selenium/webdriver/remote/errorhandler.py\u001b[0m in \u001b[0;36mcheck_response\u001b[0;34m(self, response)\u001b[0m\n\u001b[1;32m    240\u001b[0m                 \u001b[0malert_text\u001b[0m \u001b[0;34m=\u001b[0m \u001b[0mvalue\u001b[0m\u001b[0;34m[\u001b[0m\u001b[0;34m'alert'\u001b[0m\u001b[0;34m]\u001b[0m\u001b[0;34m.\u001b[0m\u001b[0mget\u001b[0m\u001b[0;34m(\u001b[0m\u001b[0;34m'text'\u001b[0m\u001b[0;34m)\u001b[0m\u001b[0;34m\u001b[0m\u001b[0;34m\u001b[0m\u001b[0m\n\u001b[1;32m    241\u001b[0m             \u001b[0;32mraise\u001b[0m \u001b[0mexception_class\u001b[0m\u001b[0;34m(\u001b[0m\u001b[0mmessage\u001b[0m\u001b[0;34m,\u001b[0m \u001b[0mscreen\u001b[0m\u001b[0;34m,\u001b[0m \u001b[0mstacktrace\u001b[0m\u001b[0;34m,\u001b[0m \u001b[0malert_text\u001b[0m\u001b[0;34m)\u001b[0m\u001b[0;34m\u001b[0m\u001b[0;34m\u001b[0m\u001b[0m\n\u001b[0;32m--> 242\u001b[0;31m         \u001b[0;32mraise\u001b[0m \u001b[0mexception_class\u001b[0m\u001b[0;34m(\u001b[0m\u001b[0mmessage\u001b[0m\u001b[0;34m,\u001b[0m \u001b[0mscreen\u001b[0m\u001b[0;34m,\u001b[0m \u001b[0mstacktrace\u001b[0m\u001b[0;34m)\u001b[0m\u001b[0;34m\u001b[0m\u001b[0;34m\u001b[0m\u001b[0m\n\u001b[0m\u001b[1;32m    243\u001b[0m \u001b[0;34m\u001b[0m\u001b[0m\n\u001b[1;32m    244\u001b[0m     \u001b[0;32mdef\u001b[0m \u001b[0m_value_or_default\u001b[0m\u001b[0;34m(\u001b[0m\u001b[0mself\u001b[0m\u001b[0;34m,\u001b[0m \u001b[0mobj\u001b[0m\u001b[0;34m,\u001b[0m \u001b[0mkey\u001b[0m\u001b[0;34m,\u001b[0m \u001b[0mdefault\u001b[0m\u001b[0;34m)\u001b[0m\u001b[0;34m:\u001b[0m\u001b[0;34m\u001b[0m\u001b[0;34m\u001b[0m\u001b[0m\n",
            "\u001b[0;31mNoSuchElementException\u001b[0m: Message: no such element: Unable to locate element: {\"method\":\"css selector\",\"selector\":\"[id=\"gs_lc50\"]\"}\n  (Session info: headless chrome=91.0.4472.101)\n"
          ]
        }
      ]
    },
    {
      "cell_type": "code",
      "metadata": {
        "colab": {
          "base_uri": "https://localhost:8080/"
        },
        "id": "01UA2osC8m7d",
        "outputId": "061bae0a-596c-48d9-a706-1e4e90f6e074"
      },
      "source": [
        "  url_string = driver.current_url\n",
        "  print(\"URL Extracted: \", url_string) # current Url of the city is extracted\n",
        "\n",
        "    "
      ],
      "execution_count": null,
      "outputs": [
        {
          "output_type": "stream",
          "text": [
            "URL Extracted:  https://consent.google.co.in/m?continue=https://www.google.co.in/maps&gl=NL&m=0&pc=m&hl=nl&src=1\n"
          ],
          "name": "stdout"
        }
      ]
    },
    {
      "cell_type": "markdown",
      "metadata": {
        "id": "X9VcSDvmm9M8"
      },
      "source": [
        "#### 6. Write a program to scrap details of all the funding deals for second quarter(i.e. July 20 –September 20) from trak.in"
      ]
    },
    {
      "cell_type": "code",
      "metadata": {
        "colab": {
          "base_uri": "https://localhost:8080/"
        },
        "id": "Jpggn6PEBzi5",
        "outputId": "0459c6f0-c079-4b69-e391-2c1765c8b98c"
      },
      "source": [
        ""
      ],
      "execution_count": 91,
      "outputs": [
        {
          "output_type": "stream",
          "text": [
            "/usr/local/lib/python3.7/dist-packages/ipykernel_launcher.py:2: DeprecationWarning: use options instead of chrome_options\n",
            "  \n"
          ],
          "name": "stderr"
        }
      ]
    },
    {
      "cell_type": "code",
      "metadata": {
        "id": "OFz3HK9HACrx",
        "colab": {
          "base_uri": "https://localhost:8080/",
          "height": 287
        },
        "outputId": "4325fec6-8b86-4133-fc45-67e12246f841"
      },
      "source": [
        "#accessing the web driver\n",
        "wd = webdriver.Chrome('chromedriver',chrome_options=chrome_options)\n",
        "time.sleep(5)\n",
        "\n",
        "# Website link \n",
        "url = \"https://trak.in/\"\n",
        "wd.get(url)\n",
        "time.sleep(5)\n",
        "btn = wd.find_element_by_xpath('//li[@id=\"menu-item-51510\"]/a').get_attribute('href')\n",
        "wd.get(btn)\n",
        "\n",
        "Fund_deals = {}\n",
        "Fund_deals['Date'] = []\n",
        "Fund_deals['Startup Name'] = []\n",
        "Fund_deals['Industry/Vertical'] = []\n",
        "Fund_deals['Sub-Vertical'] = []\n",
        "Fund_deals['Location'] = []\n",
        "Fund_deals['Investor'] = []\n",
        "Fund_deals['Investment Type'] = []\n",
        "Fund_deals['Amount(in USD)'] = []\n",
        "\n",
        "\n",
        "\n",
        "for i in range(48,51):\n",
        "    #scarping the Date, startups name, industry type , sub vertical, location, investment,amount \n",
        "    date = wd.find_elements_by_xpath('//table[@id=\"tablepress-{}\"]/tbody/tr/td[2]'.format(i))\n",
        "    for d in date:\n",
        "        Fund_deals['Date'].append(d.text)\n",
        "\n",
        "    startup = wd.find_elements_by_xpath('//table[@id=\"tablepress-{}\"]/tbody/tr/td[3]'.format(i))\n",
        "    for n in startup:\n",
        "        Fund_deals['Startup Name'].append(n.text)\n",
        "    \n",
        "    industry = wd.find_elements_by_xpath('//table[@id=\"tablepress-{}\"]/tbody/tr/td[4]'.format(i))\n",
        "    for n in industry:\n",
        "        Fund_deals['Industry/Vertical'].append(n.text)\n",
        "    \n",
        "    sub = wd.find_elements_by_xpath('//table[@id=\"tablepress-{}\"]/tbody/tr/td[5]'.format(i))\n",
        "    for s in sub:\n",
        "        Fund_deals['Sub-Vertical'].append(s.text)\n",
        "\n",
        "    location = wd.find_elements_by_xpath('//table[@id=\"tablepress-{}\"]/tbody/tr/td[6]'.format(i))\n",
        "    for l in location:\n",
        "        Fund_deals['Location'].append(l.text)\n",
        "    \n",
        "    investor1 = wd.find_elements_by_xpath('//table[@id=\"tablepress-{}\"]/tbody/tr/td[7]'.format(i))\n",
        "    for n in investor1:\n",
        "        Fund_deals['Investor'].append(n.text)\n",
        "\n",
        "    \n",
        "    invest = wd.find_elements_by_xpath('//table[@id=\"tablepress-{}\"]/tbody/tr/td[8]'.format(i))\n",
        "    for m in invest:\n",
        "        Fund_deals['Investment Type'].append(m.text)\n",
        "    \n",
        "    amount = wd.find_elements_by_xpath('//table[@id=\"tablepress-{}\"]/tbody/tr/td[9]'.format(i))\n",
        "    for a in amount:\n",
        "        Fund_deals['Amount(in USD)'].append(a.text)\n",
        "    \n",
        "\n",
        "Fund_deals_df = pd.DataFrame(Fund_deals)\n",
        "Fund_deals_df.head()"
      ],
      "execution_count": 124,
      "outputs": [
        {
          "output_type": "stream",
          "text": [
            "/usr/local/lib/python3.7/dist-packages/ipykernel_launcher.py:2: DeprecationWarning: use options instead of chrome_options\n",
            "  \n"
          ],
          "name": "stderr"
        },
        {
          "output_type": "execute_result",
          "data": {
            "text/html": [
              "<div>\n",
              "<style scoped>\n",
              "    .dataframe tbody tr th:only-of-type {\n",
              "        vertical-align: middle;\n",
              "    }\n",
              "\n",
              "    .dataframe tbody tr th {\n",
              "        vertical-align: top;\n",
              "    }\n",
              "\n",
              "    .dataframe thead th {\n",
              "        text-align: right;\n",
              "    }\n",
              "</style>\n",
              "<table border=\"1\" class=\"dataframe\">\n",
              "  <thead>\n",
              "    <tr style=\"text-align: right;\">\n",
              "      <th></th>\n",
              "      <th>Date</th>\n",
              "      <th>Startup Name</th>\n",
              "      <th>Industry/Vertical</th>\n",
              "      <th>Sub-Vertical</th>\n",
              "      <th>Location</th>\n",
              "      <th>Investor</th>\n",
              "      <th>Investment Type</th>\n",
              "      <th>Amount(in USD)</th>\n",
              "    </tr>\n",
              "  </thead>\n",
              "  <tbody>\n",
              "    <tr>\n",
              "      <th>0</th>\n",
              "      <td>15/07/2020</td>\n",
              "      <td>Flipkart</td>\n",
              "      <td>E-commerce</td>\n",
              "      <td>E-commerce</td>\n",
              "      <td>Bangalore</td>\n",
              "      <td>Walmart Inc</td>\n",
              "      <td>M&amp;A</td>\n",
              "      <td>1,200,000,000</td>\n",
              "    </tr>\n",
              "    <tr>\n",
              "      <th>1</th>\n",
              "      <td>16/07/2020</td>\n",
              "      <td>Vedantu</td>\n",
              "      <td>EduTech</td>\n",
              "      <td>Online Tutoring</td>\n",
              "      <td>Bangalore</td>\n",
              "      <td>Coatue Management</td>\n",
              "      <td>Series D</td>\n",
              "      <td>100,000,000</td>\n",
              "    </tr>\n",
              "    <tr>\n",
              "      <th>2</th>\n",
              "      <td>16/07/2020</td>\n",
              "      <td>Crio</td>\n",
              "      <td>EduTech</td>\n",
              "      <td>Learning Platform for Developers</td>\n",
              "      <td>Bangalore</td>\n",
              "      <td>021 Capital</td>\n",
              "      <td>pre-Series A</td>\n",
              "      <td>934,160</td>\n",
              "    </tr>\n",
              "    <tr>\n",
              "      <th>3</th>\n",
              "      <td>14/07/2020</td>\n",
              "      <td>goDutch</td>\n",
              "      <td>FinTech</td>\n",
              "      <td>Group Payments</td>\n",
              "      <td>Mumbai</td>\n",
              "      <td>Matrix India,Y Combinator, Global Founders Cap...</td>\n",
              "      <td>Seed</td>\n",
              "      <td>1,700,000</td>\n",
              "    </tr>\n",
              "    <tr>\n",
              "      <th>4</th>\n",
              "      <td>13/07/2020</td>\n",
              "      <td>Mystifly</td>\n",
              "      <td>Airfare Marketplace</td>\n",
              "      <td>Ticketing, Airline Retailing, and Post-Ticketi...</td>\n",
              "      <td>Singapore and Bangalore</td>\n",
              "      <td>Recruit Co. Ltd.</td>\n",
              "      <td>pre-Series B</td>\n",
              "      <td>3,300,000</td>\n",
              "    </tr>\n",
              "  </tbody>\n",
              "</table>\n",
              "</div>"
            ],
            "text/plain": [
              "         Date Startup Name  ... Investment Type Amount(in USD)\n",
              "0  15/07/2020     Flipkart  ...             M&A  1,200,000,000\n",
              "1  16/07/2020      Vedantu  ...        Series D    100,000,000\n",
              "2  16/07/2020         Crio  ...    pre-Series A        934,160\n",
              "3  14/07/2020      goDutch  ...            Seed      1,700,000\n",
              "4  13/07/2020     Mystifly  ...    pre-Series B      3,300,000\n",
              "\n",
              "[5 rows x 8 columns]"
            ]
          },
          "metadata": {
            "tags": []
          },
          "execution_count": 124
        }
      ]
    },
    {
      "cell_type": "code",
      "metadata": {
        "colab": {
          "base_uri": "https://localhost:8080/"
        },
        "id": "uXJ96k6EB83E",
        "outputId": "2f7408ea-b65d-4306-83be-78d80e29fd59"
      },
      "source": [
        "print(len(Fund_deals['Date']),len(Fund_deals['Startup Name']),len(Fund_deals['Industry/Vertical']),len(Fund_deals['Sub-Vertical']))\n"
      ],
      "execution_count": 121,
      "outputs": [
        {
          "output_type": "stream",
          "text": [
            "30 30 30 30\n"
          ],
          "name": "stdout"
        }
      ]
    },
    {
      "cell_type": "code",
      "metadata": {
        "colab": {
          "base_uri": "https://localhost:8080/"
        },
        "id": "cUz5cFLsSck6",
        "outputId": "886bcf8e-3040-4df5-ea71-eca0335bd570"
      },
      "source": [
        "print(len(Fund_deals['Location']),len(Fund_deals['Investment Type']),len(Fund_deals['Investor']),len(Fund_deals['Amount(in USD)']))\n"
      ],
      "execution_count": 122,
      "outputs": [
        {
          "output_type": "stream",
          "text": [
            "30 30 0 30\n"
          ],
          "name": "stdout"
        }
      ]
    },
    {
      "cell_type": "markdown",
      "metadata": {
        "id": "BVtfcBI4UFqn"
      },
      "source": [
        "### 7.Write a program to scrap all the available details of best gaming laptops from digit.in. "
      ]
    },
    {
      "cell_type": "code",
      "metadata": {
        "id": "UVcBpYln3tsu"
      },
      "source": [
        ""
      ],
      "execution_count": 75,
      "outputs": []
    },
    {
      "cell_type": "code",
      "metadata": {
        "colab": {
          "base_uri": "https://localhost:8080/"
        },
        "id": "_9Qeh5NAxU7f",
        "outputId": "7f90bf96-dd37-43f7-acdf-22c0542a5772"
      },
      "source": [
        "#accessing the web driver\n",
        "wd = webdriver.Chrome('chromedriver',chrome_options=chrome_options)\n",
        "time.sleep(1)\n",
        "\n",
        "url = \"https://www.digit.in\"\n",
        "wd.get(url)\n",
        "time.sleep(3)\n",
        "\n",
        "from selenium.webdriver.common.keys import Keys\n",
        "\n",
        "search = wd.find_element_by_xpath(\"//div[@class='search']/a/img\") #searching \n",
        "search.click()\n",
        "time.sleep(3)\n",
        "\n",
        "# Accepting input from user\n",
        "user_input = input(\"Enter the topic to search top 10 products :\")\n",
        "\n",
        "# giving seach \n",
        "search_box = wd.find_element_by_id(\"globalPageSearchText\")\n",
        "search_box.send_keys(user_input)\n",
        "time.sleep(4)\n",
        "search_box.send_keys(Keys.RETURN) \n",
        "time.sleep(3)\n",
        "\n",
        "products = wd.find_element_by_xpath(\"//form[@id='contenttypeId']/ul/li[5]\")\n",
        "products.click()\n",
        "time.sleep(3)\n",
        "\n",
        "link = wd.find_element_by_xpath(\"//div[@class='searchPage']/a\").get_attribute('href')\n",
        "wd.get(link)\n",
        "time.sleep(3)\n",
        "\n",
        "url = [i.get_attribute(\"href\") for i in wd.find_elements_by_xpath(\"//div[@class='TopNumbeHeading active sticky-footer']/a\")]\n",
        "time.sleep(3)\n",
        "url "
      ],
      "execution_count": 77,
      "outputs": [
        {
          "output_type": "stream",
          "text": [
            "/usr/local/lib/python3.7/dist-packages/ipykernel_launcher.py:2: DeprecationWarning: use options instead of chrome_options\n",
            "  \n"
          ],
          "name": "stderr"
        },
        {
          "output_type": "stream",
          "text": [
            "Enter the topic to search top 10 products :top ten gaming laptops\n"
          ],
          "name": "stdout"
        },
        {
          "output_type": "execute_result",
          "data": {
            "text/plain": [
              "['https://www.digit.in/laptops/alienware-area-51m-r2-price-228193.html',\n",
              " 'https://www.digit.in/laptops/alienware-m15-r3-price-228207.html',\n",
              " 'https://www.digit.in/laptops/asus-rog-strix-scar-15-price-228221.html',\n",
              " 'https://www.digit.in/laptops/asus-rog-zephyrus-g14-price-209173.html',\n",
              " 'https://www.digit.in/laptops/lenovo-legion-5i-price-228235.html',\n",
              " 'https://www.digit.in/laptops/asus-rog-zephyrus-duo-15-price-215799.html',\n",
              " 'https://www.digit.in/laptops/acer-aspire-7-gaming-price-223781.html']"
            ]
          },
          "metadata": {
            "tags": []
          },
          "execution_count": 77
        }
      ]
    },
    {
      "cell_type": "code",
      "metadata": {
        "colab": {
          "base_uri": "https://localhost:8080/",
          "height": 263
        },
        "id": "yV9W-U1ILUS4",
        "outputId": "332bc278-f160-47c6-89f4-866d705400c3"
      },
      "source": [
        "best_gaming_laptopts = {}\n",
        "best_gaming_laptopts['Brand Name'] = []\n",
        "best_gaming_laptopts['OS'] = []\n",
        "best_gaming_laptopts['Display_Size']=[]\n",
        "best_gaming_laptopts['Resolution']=[]\n",
        "best_gaming_laptopts['Processor Model Name'] =[]\n",
        "best_gaming_laptopts['Graphics Processor'] =[]\n",
        "best_gaming_laptopts['RAM']=[]\n",
        "best_gaming_laptopts['Storage']=[]\n",
        "\n",
        "for i in url:\n",
        "    wd.get(i) #going for each laptops spec\n",
        "    time.sleep(5)\n",
        "    \n",
        "  \n",
        "    brand = wd.find_element_by_xpath(\"//div[@class='heading-wraper']/h1\") \n",
        "    if brand.text is None:\n",
        "        best_gaming_laptopts['Brand Name'].append(\"-\")\n",
        "    else:\n",
        "        best_gaming_laptopts['Brand Name'].append(brand.text)\n",
        "    \n",
        "\n",
        "    os = wd.find_element_by_xpath(\" //div[@class='Specs-Wrap  notspecs ']/ul/li[1]/div\") \n",
        "    if os.text is None:\n",
        "        best_gaming_laptopts['OS'].append(\"-\")\n",
        "    else:\n",
        "        best_gaming_laptopts['OS'].append(os.text)\n",
        "\n",
        "   \n",
        "    display = wd.find_element_by_xpath(\" //div[@class='Specs-Wrap  notspecs ']/ul/li[2]/div\")\n",
        "    if display.text is None:\n",
        "        best_gaming_laptopts['Display_Size'].append(\"-\")\n",
        "        best_gaming_laptopts['Resolution'].append(\"-\")\n",
        "    else:\n",
        "        best_gaming_laptopts['Display_Size'].append(display.text.split(\"(\")[0])\n",
        "        best_gaming_laptopts['Resolution'].append(display.text.split(\"(\")[1].replace(\")\",\"\"))\n",
        "        \n",
        "\n",
        "    process = wd.find_element_by_xpath(\" //div[@class='Specs-Wrap  notspecs ']/ul/li[3]/div\")\n",
        "    if process.text is None:\n",
        "        best_gaming_laptopts['Processor'].append(\"-\")\n",
        "        best_gaming_laptopts['Graphics Processor'].append(\"-\")\n",
        "    else:\n",
        "        best_gaming_laptopts['Processor Model Name'].append(process.text.split(\"|\")[0])\n",
        "        best_gaming_laptopts['Graphics Processor'].append(process.text.split(\"|\")[1])\n",
        "        \n",
        "  \n",
        "    memory = wd.find_element_by_xpath(\" //div[@class='Specs-Wrap  notspecs ']/ul/li[4]/div\")\n",
        "    if memory.text is None:\n",
        "        best_gaming_laptopts['Storage'].append(\"-\")\n",
        "        best_gaming_laptopts['RAM'].append(\"-\")\n",
        "    else:\n",
        "        best_gaming_laptopts['Storage'].append(memory.text.split(\"/\")[0])\n",
        "        best_gaming_laptopts['RAM'].append(memory.text.split(\"/\")[1])\n",
        "\n",
        "        \n",
        "time.sleep(5)    \n",
        "Gaming_laptops = pd.DataFrame(best_gaming_laptopts)\n",
        "Gaming_laptops.to_csv(\"Gaming_laptops.csv\")\n",
        "Gaming_laptops"
      ],
      "execution_count": 82,
      "outputs": [
        {
          "output_type": "execute_result",
          "data": {
            "text/html": [
              "<div>\n",
              "<style scoped>\n",
              "    .dataframe tbody tr th:only-of-type {\n",
              "        vertical-align: middle;\n",
              "    }\n",
              "\n",
              "    .dataframe tbody tr th {\n",
              "        vertical-align: top;\n",
              "    }\n",
              "\n",
              "    .dataframe thead th {\n",
              "        text-align: right;\n",
              "    }\n",
              "</style>\n",
              "<table border=\"1\" class=\"dataframe\">\n",
              "  <thead>\n",
              "    <tr style=\"text-align: right;\">\n",
              "      <th></th>\n",
              "      <th>Brand Name</th>\n",
              "      <th>OS</th>\n",
              "      <th>Display_Size</th>\n",
              "      <th>Resolution</th>\n",
              "      <th>Processor Model Name</th>\n",
              "      <th>Graphics Processor</th>\n",
              "      <th>RAM</th>\n",
              "      <th>Storage</th>\n",
              "    </tr>\n",
              "  </thead>\n",
              "  <tbody>\n",
              "    <tr>\n",
              "      <th>0</th>\n",
              "      <td>Alienware Area 51M R2</td>\n",
              "      <td>Windows 10 Home</td>\n",
              "      <td>17.3\"</td>\n",
              "      <td>1920 X 1080</td>\n",
              "      <td>10th Generation Intel® Core™ I7-10700</td>\n",
              "      <td>2.90 GHz</td>\n",
              "      <td>16 GBGB DDR4</td>\n",
              "      <td>1 TB SSD</td>\n",
              "    </tr>\n",
              "    <tr>\n",
              "      <th>1</th>\n",
              "      <td>Alienware M15 R3</td>\n",
              "      <td>Windows 10 Home</td>\n",
              "      <td>15.6\"</td>\n",
              "      <td>3840 X 2160</td>\n",
              "      <td>10th Generation Intel® Core™ I9-10980HK</td>\n",
              "      <td>NA</td>\n",
              "      <td>16 GBGB DDR4</td>\n",
              "      <td>1 TB SSD</td>\n",
              "    </tr>\n",
              "    <tr>\n",
              "      <th>2</th>\n",
              "      <td>ASUS ROG Strix Scar 15</td>\n",
              "      <td>Windows 10 Home</td>\n",
              "      <td>15.6\"</td>\n",
              "      <td>1920 X 1080</td>\n",
              "      <td>AMD Ryzen™ 9 5900HX</td>\n",
              "      <td>3.3 GHz</td>\n",
              "      <td>16 GBGB DDR4</td>\n",
              "      <td>1 TB SSD</td>\n",
              "    </tr>\n",
              "    <tr>\n",
              "      <th>3</th>\n",
              "      <td>Asus ROG Zephyrus G14</td>\n",
              "      <td>Windows 10 Home</td>\n",
              "      <td>14\"</td>\n",
              "      <td>1920 X 1080</td>\n",
              "      <td>AMD 3rd Generation Ryzen 9</td>\n",
              "      <td>3.3 GHz</td>\n",
              "      <td>16 GBGB DDR4</td>\n",
              "      <td>1 TB SSD</td>\n",
              "    </tr>\n",
              "    <tr>\n",
              "      <th>4</th>\n",
              "      <td>Lenovo Legion 5i</td>\n",
              "      <td>Windows 10 Pro</td>\n",
              "      <td>15.6\"</td>\n",
              "      <td>1920 X 1080</td>\n",
              "      <td>10th Generation Intel® Core™ I5-10300H</td>\n",
              "      <td>2.50 GHz</td>\n",
              "      <td>16 GBGB DDR4</td>\n",
              "      <td>1 TB SSD</td>\n",
              "    </tr>\n",
              "    <tr>\n",
              "      <th>5</th>\n",
              "      <td>Asus ROG Zephyrus Duo 15</td>\n",
              "      <td>Windows 10</td>\n",
              "      <td>15.6\"</td>\n",
              "      <td>3840 X 1100</td>\n",
              "      <td>Intel Core I7 10th Gen 10875H</td>\n",
              "      <td>NA</td>\n",
              "      <td>4 GBGB DDR4</td>\n",
              "      <td>512 GB SSD</td>\n",
              "    </tr>\n",
              "    <tr>\n",
              "      <th>6</th>\n",
              "      <td>Acer Aspire 7 Gaming</td>\n",
              "      <td>Windows 10 Home</td>\n",
              "      <td>15.6\"</td>\n",
              "      <td>1920 X 1080</td>\n",
              "      <td>AMD Ryzen™ 5-5500U Hexa-Core</td>\n",
              "      <td>NA</td>\n",
              "      <td>8 GBGB DDR4</td>\n",
              "      <td>512 GB SSD</td>\n",
              "    </tr>\n",
              "  </tbody>\n",
              "</table>\n",
              "</div>"
            ],
            "text/plain": [
              "                 Brand Name               OS  ...           RAM     Storage\n",
              "0     Alienware Area 51M R2  Windows 10 Home  ...  16 GBGB DDR4    1 TB SSD\n",
              "1          Alienware M15 R3  Windows 10 Home  ...  16 GBGB DDR4    1 TB SSD\n",
              "2    ASUS ROG Strix Scar 15  Windows 10 Home  ...  16 GBGB DDR4    1 TB SSD\n",
              "3     Asus ROG Zephyrus G14  Windows 10 Home  ...  16 GBGB DDR4    1 TB SSD\n",
              "4          Lenovo Legion 5i   Windows 10 Pro  ...  16 GBGB DDR4    1 TB SSD\n",
              "5  Asus ROG Zephyrus Duo 15       Windows 10  ...   4 GBGB DDR4  512 GB SSD\n",
              "6      Acer Aspire 7 Gaming  Windows 10 Home  ...   8 GBGB DDR4  512 GB SSD\n",
              "\n",
              "[7 rows x 8 columns]"
            ]
          },
          "metadata": {
            "tags": []
          },
          "execution_count": 82
        }
      ]
    },
    {
      "cell_type": "markdown",
      "metadata": {
        "id": "VU78lyvMCFF1"
      },
      "source": [
        ""
      ]
    },
    {
      "cell_type": "code",
      "metadata": {
        "id": "ksQVEr7fUBvk"
      },
      "source": [
        ""
      ],
      "execution_count": null,
      "outputs": []
    }
  ]
}